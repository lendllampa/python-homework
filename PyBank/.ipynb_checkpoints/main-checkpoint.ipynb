{
 "cells": [
  {
   "cell_type": "code",
   "execution_count": 51,
   "id": "bdf2b0ea-c921-4ba1-8e4f-8ba285889d84",
   "metadata": {},
   "outputs": [
    {
     "name": "stdout",
     "output_type": "stream",
     "text": [
      "Financial Analysis\n",
      "------------------------------\n",
      "Total Months: 86\n",
      "Total: $38,382,578.00\n",
      "Average Change: $-2,315.12\n",
      "Greatest Increase in Profits: Feb-2012 ($1,926,159.00)\n",
      "Greatest Decrease in Profits: Sep-2013 ($-2,196,167.00)\n"
     ]
    }
   ],
   "source": [
    "import pandas as pd\n",
    "import numpy as np\n",
    "import csv\n",
    "\n",
    "# Import csv file and set max rows to None\n",
    "df = pd.read_csv(\"budget_data.csv\")\n",
    "pd.set_option('display.max_rows', None)\n",
    "\n",
    "\n",
    "# Initialize metric variables\n",
    "total_months = (len(df))\n",
    "total_pnl = df[\"Profit/Losses\"].sum()\n",
    "avg_change = 0\n",
    "max_increase = 0\n",
    "max_decrease = 0\n",
    "        \n",
    "# Create new column with shifted 'Profit/Losses' values\n",
    "df['Pre_pnl'] = df['Profit/Losses'].shift(1)\n",
    "\n",
    "# Create new column that will calculate the difference between each monthly PnL (Profit/Losses - Pre_pnl) form row to row\n",
    "df['Change'] = df['Profit/Losses'] - df['Pre_pnl']\n",
    "\n",
    "# Find average, max and min change\n",
    "avg_chg = df['Change'].mean()\n",
    "max_inc = df['Change'].max()\n",
    "max_dec = df['Change'].min()\n",
    "\n",
    "# Locate the index that matches the max_inc\n",
    "inc_index = df[df['Change'] == max_inc].index.values[0]\n",
    "# Use the index from above to locate the value in the first column of that index\n",
    "inc_date = df.iloc[inc_index][0]\n",
    "\n",
    "# Locate the index that matches the max_dec\n",
    "dec_index = df[df['Change'] == max_dec].index.values[0]\n",
    "#Use the index from above to locate the value in the first column of that index\n",
    "dec_date = df.iloc[dec_index][0]\n",
    "\n",
    "\n",
    "print(\"Financial Analysis\")\n",
    "print(\"-\" * 30)\n",
    "print(f\"Total Months: {total_months}\")\n",
    "print(f\"Total: ${total_pnl:,.2f}\")\n",
    "print(f'Average Change: ${avg_chg:,.2f}')\n",
    "print(f'Greatest Increase in Profits: {inc_date} (${max_inc:,.2f})')\n",
    "print(f'Greatest Decrease in Profits: {dec_date} (${max_dec:,.2f})')"
   ]
  }
 ],
 "metadata": {
  "kernelspec": {
   "display_name": "Python 3",
   "language": "python",
   "name": "python3"
  },
  "language_info": {
   "codemirror_mode": {
    "name": "ipython",
    "version": 3
   },
   "file_extension": ".py",
   "mimetype": "text/x-python",
   "name": "python",
   "nbconvert_exporter": "python",
   "pygments_lexer": "ipython3",
   "version": "3.8.5"
  }
 },
 "nbformat": 4,
 "nbformat_minor": 5
}
